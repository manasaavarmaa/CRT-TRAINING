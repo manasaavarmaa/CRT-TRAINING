{
  "nbformat": 4,
  "nbformat_minor": 0,
  "metadata": {
    "colab": {
      "provenance": []
    },
    "kernelspec": {
      "name": "python3",
      "display_name": "Python 3"
    },
    "language_info": {
      "name": "python"
    }
  },
  "cells": [
    {
      "cell_type": "code",
      "source": [
        "import re\n",
        "\n",
        "def clean_text(text):\n",
        "  \"\"\"\n",
        "  Cleans a given text by removing special characters and converting it to lowercase.\n",
        "\n",
        "  Args:\n",
        "    text: The input text string.\n",
        "\n",
        "  Returns:\n",
        "    The cleaned text string.\n",
        "  \"\"\"\n",
        "  text = re.sub(r'[^\\w\\s]', '', text)  # Remove special characters\n",
        "  text = text.lower()  # Convert to lowercase\n",
        "  return text\n",
        "\n",
        "\n",
        "# Test the function\n",
        "input_text = 'Hello, World! Welcome to NLP 101.'\n",
        "cleaned_text = clean_text(input_text)\n",
        "print(f\"Original Text: {input_text}\")\n",
        "print(f\"Cleaned Text: {cleaned_text}\")"
      ],
      "metadata": {
        "id": "PV11q0ApBeBD",
        "outputId": "44251e46-d3f7-4271-ccfc-63cc4d3d7ab8",
        "colab": {
          "base_uri": "https://localhost:8080/"
        }
      },
      "execution_count": 6,
      "outputs": [
        {
          "output_type": "stream",
          "name": "stdout",
          "text": [
            "Original Text: Hello, World! Welcome to NLP 101.\n",
            "Cleaned Text: hello world welcome to nlp 101\n"
          ]
        }
      ]
    }
  ]
}