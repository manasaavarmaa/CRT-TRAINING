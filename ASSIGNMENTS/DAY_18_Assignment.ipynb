{
  "nbformat": 4,
  "nbformat_minor": 0,
  "metadata": {
    "colab": {
      "provenance": []
    },
    "kernelspec": {
      "name": "python3",
      "display_name": "Python 3"
    },
    "language_info": {
      "name": "python"
    }
  },
  "cells": [
    {
      "cell_type": "code",
      "source": [
        "import requests\n",
        "from bs4 import BeautifulSoup\n",
        "\n",
        "def get_webpage_title(url):\n",
        "    \"\"\"\n",
        "    Fetches and prints the title of a webpage.\n",
        "\n",
        "    Args:\n",
        "      url: The URL of the webpage.\n",
        "\n",
        "    Returns:\n",
        "      The title of the webpage, or None if an error occurs.\n",
        "    \"\"\"\n",
        "    try:\n",
        "        response = requests.get(url)\n",
        "        response.raise_for_status()  # Raise an exception for bad status codes\n",
        "\n",
        "        soup = BeautifulSoup(response.content, 'html.parser')\n",
        "        title = soup.title.string\n",
        "        return title\n",
        "    except requests.exceptions.RequestException as e:\n",
        "        print(f\"Error fetching URL: {e}\")\n",
        "        return None\n",
        "    except AttributeError:\n",
        "        print(\"Title tag not found on the webpage.\")\n",
        "        return None\n",
        "\n",
        "\n",
        "# Test the function with 'https://example.com'\n",
        "url = 'https://example.com'\n",
        "title = get_webpage_title(url)\n",
        "\n",
        "if title:\n",
        "    print(f\"Title of {url}: {title}\")\n"
      ],
      "metadata": {
        "colab": {
          "base_uri": "https://localhost:8080/"
        },
        "id": "PV11q0ApBeBD",
        "outputId": "37b2f78f-26ca-4faa-a49d-e66eceec4574"
      },
      "execution_count": 7,
      "outputs": [
        {
          "output_type": "stream",
          "name": "stdout",
          "text": [
            "Title of https://example.com: Example Domain\n"
          ]
        }
      ]
    }
  ]
}