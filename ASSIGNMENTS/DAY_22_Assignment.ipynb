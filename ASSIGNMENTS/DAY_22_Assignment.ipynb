{
  "nbformat": 4,
  "nbformat_minor": 0,
  "metadata": {
    "colab": {
      "provenance": []
    },
    "kernelspec": {
      "name": "python3",
      "display_name": "Python 3"
    },
    "language_info": {
      "name": "python"
    }
  },
  "cells": [
    {
      "cell_type": "code",
      "source": [
        "import spacy\n",
        "\n",
        "# Load the English language model\n",
        "nlp = spacy.load(\"en_core_web_sm\")\n",
        "\n",
        "# Process the sentence\n",
        "sentence = \"NLP is amazing and fun to learn.\"\n",
        "doc = nlp(sentence)\n",
        "\n",
        "# Print the part-of-speech tags for each token\n",
        "for token in doc:\n",
        "  print(f\"{token.text} - {token.pos_}\")\n"
      ],
      "metadata": {
        "colab": {
          "base_uri": "https://localhost:8080/"
        },
        "id": "4iBEz_eTLClK",
        "outputId": "e57ce392-106e-4c13-94c8-fad6d2376204"
      },
      "execution_count": 3,
      "outputs": [
        {
          "output_type": "stream",
          "name": "stdout",
          "text": [
            "NLP - PROPN\n",
            "is - AUX\n",
            "amazing - ADJ\n",
            "and - CCONJ\n",
            "fun - ADJ\n",
            "to - PART\n",
            "learn - VERB\n",
            ". - PUNCT\n"
          ]
        }
      ]
    },
    {
      "cell_type": "code",
      "source": [],
      "metadata": {
        "id": "RtJd9aNlLDNh"
      },
      "execution_count": null,
      "outputs": []
    }
  ]
}