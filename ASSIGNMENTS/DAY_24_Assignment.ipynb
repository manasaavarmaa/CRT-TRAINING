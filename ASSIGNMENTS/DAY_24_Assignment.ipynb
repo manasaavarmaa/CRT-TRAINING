{
  "nbformat": 4,
  "nbformat_minor": 0,
  "metadata": {
    "colab": {
      "provenance": []
    },
    "kernelspec": {
      "name": "python3",
      "display_name": "Python 3"
    },
    "language_info": {
      "name": "python"
    }
  },
  "cells": [
    {
      "cell_type": "code",
      "source": [
        "\n",
        "import nltk\n",
        "from nltk.tokenize import word_tokenize\n",
        "from nltk.probability import FreqDist\n",
        "from collections import Counter\n",
        "\n",
        "# Download required NLTK resources if not already present\n",
        "try:\n",
        "    word_tokenize(\"test\")\n",
        "except LookupError:\n",
        "    nltk.download('punkt')\n",
        "nltk.download('punkt_tab')\n",
        "\n",
        "def analyze_text_file(file_path):\n",
        "    try:\n",
        "        with open(file_path, 'r', encoding='utf-8') as file:\n",
        "            text = file.read()\n",
        "    except FileNotFoundError:\n",
        "        print(f\"Error: File '{file_path}' not found.\")\n",
        "        return\n",
        "\n",
        "    tokens = word_tokenize(text.lower())  # Convert to lowercase for case-insensitivity\n",
        "\n",
        "    # Remove punctuation and other non-alphanumeric characters\n",
        "    words = [word for word in tokens if word.isalnum()]\n",
        "\n",
        "    # Calculate word frequencies\n",
        "    # fdist = FreqDist(words)  # Using FreqDist from NLTK\n",
        "    word_counts = Counter(words)  # Using Counter from collections for efficiency\n",
        "\n",
        "\n",
        "    # Display the 10 most common words\n",
        "    print(\"10 Most Common Words:\")\n",
        "    for word, count in word_counts.most_common(10):\n",
        "        print(f\"{word}: {count}\")\n",
        "\n",
        "\n",
        "# Example usage: Replace 'your_file.txt' with the actual file path\n",
        "analyze_text_file('/content/file.txt')\n"
      ],
      "metadata": {
        "colab": {
          "base_uri": "https://localhost:8080/"
        },
        "id": "4iBEz_eTLClK",
        "outputId": "697bf2cb-9167-4374-dd45-fda78ebf3d6a"
      },
      "execution_count": 9,
      "outputs": [
        {
          "output_type": "stream",
          "name": "stderr",
          "text": [
            "[nltk_data] Downloading package punkt to /root/nltk_data...\n",
            "[nltk_data]   Package punkt is already up-to-date!\n",
            "[nltk_data] Downloading package punkt_tab to /root/nltk_data...\n",
            "[nltk_data]   Unzipping tokenizers/punkt_tab.zip.\n"
          ]
        },
        {
          "output_type": "stream",
          "name": "stdout",
          "text": [
            "10 Most Common Words:\n",
            "the: 62\n",
            "positive: 53\n",
            "this: 45\n",
            "i: 44\n",
            "negative: 43\n",
            "was: 26\n",
            "is: 26\n",
            "website: 23\n",
            "review: 21\n",
            "online: 19\n"
          ]
        }
      ]
    },
    {
      "cell_type": "code",
      "source": [],
      "metadata": {
        "id": "v8oPhYUUL6KK"
      },
      "execution_count": null,
      "outputs": []
    }
  ]
}