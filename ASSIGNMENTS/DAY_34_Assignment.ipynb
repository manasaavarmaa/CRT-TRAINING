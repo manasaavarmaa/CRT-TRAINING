{
  "nbformat": 4,
  "nbformat_minor": 0,
  "metadata": {
    "colab": {
      "provenance": []
    },
    "kernelspec": {
      "name": "python3",
      "display_name": "Python 3"
    },
    "language_info": {
      "name": "python"
    }
  },
  "cells": [
    {
      "cell_type": "code",
      "source": [
        "from sklearn.feature_extraction.text import CountVectorizer, TfidfVectorizer\n",
        "\n",
        "def bow_tfidf(corpus):\n",
        "    # Bag of Words\n",
        "    vectorizer = CountVectorizer()\n",
        "    X = vectorizer.fit_transform(corpus)\n",
        "    print(\"Bag of Words:\")\n",
        "    print(X.toarray())\n",
        "    print(vectorizer.get_feature_names_out())\n",
        "\n",
        "    # TF-IDF\n",
        "    tfidf_vectorizer = TfidfVectorizer()\n",
        "    tfidf_X = tfidf_vectorizer.fit_transform(corpus)\n",
        "    print(\"\\nTF-IDF:\")\n",
        "    print(tfidf_X.toarray())\n",
        "    print(tfidf_vectorizer.get_feature_names_out())\n",
        "\n",
        "\n",
        "corpus = [\"I love machine learning\", \"Machine learning is fun\", \"Deep learning is amazing\"]\n",
        "bow_tfidf(corpus)\n",
        "\n"
      ],
      "metadata": {
        "colab": {
          "base_uri": "https://localhost:8080/"
        },
        "id": "2fA99okFN70D",
        "outputId": "6fa2d1e1-49b6-477c-c62d-c201ce4c8061"
      },
      "execution_count": 15,
      "outputs": [
        {
          "output_type": "stream",
          "name": "stdout",
          "text": [
            "Bag of Words:\n",
            "[[0 0 0 0 1 1 1]\n",
            " [0 0 1 1 1 0 1]\n",
            " [1 1 0 1 1 0 0]]\n",
            "['amazing' 'deep' 'fun' 'is' 'learning' 'love' 'machine']\n",
            "\n",
            "TF-IDF:\n",
            "[[0.         0.         0.         0.         0.42544054 0.72033345\n",
            "  0.54783215]\n",
            " [0.         0.         0.63174505 0.4804584  0.37311881 0.\n",
            "  0.4804584 ]\n",
            " [0.5844829  0.5844829  0.         0.44451431 0.34520502 0.\n",
            "  0.        ]]\n",
            "['amazing' 'deep' 'fun' 'is' 'learning' 'love' 'machine']\n"
          ]
        }
      ]
    }
  ]
}