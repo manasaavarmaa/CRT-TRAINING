{
  "nbformat": 4,
  "nbformat_minor": 0,
  "metadata": {
    "colab": {
      "provenance": []
    },
    "kernelspec": {
      "name": "python3",
      "display_name": "Python 3"
    },
    "language_info": {
      "name": "python"
    }
  },
  "cells": [
    {
      "cell_type": "code",
      "source": [
        "from sklearn.feature_extraction.text import TfidfVectorizer\n",
        "from sklearn.ensemble import RandomForestClassifier\n",
        "from sklearn.model_selection import train_test_split\n",
        "\n",
        "# Example input data\n",
        "texts = [\"Spam messages are annoying\", \"I won a lottery\", \"This is a normal message\"]\n",
        "labels = [0, 1, 0]  # 0: Not Spam, 1: Spam\n",
        "\n",
        "# Convert text data into numerical features\n",
        "vectorizer = TfidfVectorizer()\n",
        "X = vectorizer.fit_transform(texts)\n",
        "\n",
        "# Split data into training and testing sets\n",
        "X_train, X_test, y_train, y_test = train_test_split(X, labels, test_size=0.2, random_state=42)\n",
        "\n",
        "# Train a RandomForestClassifier\n",
        "classifier = RandomForestClassifier()\n",
        "classifier.fit(X_train, y_train)\n",
        "\n",
        "# Make predictions on the test set\n",
        "predictions = classifier.predict(X_test)\n",
        "\n",
        "# Example usage for new text classification:\n",
        "new_text = [\"You won a million dollars!\"]\n",
        "new_text_vectorized = vectorizer.transform(new_text)\n",
        "new_prediction = classifier.predict(new_text_vectorized)\n",
        "print(f\"Prediction for '{new_text[0]}': {new_prediction[0]}\")\n"
      ],
      "metadata": {
        "colab": {
          "base_uri": "https://localhost:8080/"
        },
        "id": "x3mEeN5nP0m1",
        "outputId": "724c7a0d-606f-4333-bc62-de9428c42da3"
      },
      "execution_count": 18,
      "outputs": [
        {
          "output_type": "stream",
          "name": "stdout",
          "text": [
            "Prediction for 'You won a million dollars!': 1\n"
          ]
        }
      ]
    }
  ]
}