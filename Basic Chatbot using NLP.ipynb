{
 "cells": [
  {
   "cell_type": "code",
   "execution_count": null,
   "id": "27c6cea8-e565-4fff-be8f-209377529bd5",
   "metadata": {},
   "outputs": [
    {
     "name": "stderr",
     "output_type": "stream",
     "text": [
      "[nltk_data] Downloading package punkt_tab to\n",
      "[nltk_data]     C:\\Users\\manas\\AppData\\Roaming\\nltk_data...\n",
      "[nltk_data]   Unzipping tokenizers\\punkt_tab.zip.\n"
     ]
    },
    {
     "name": "stdout",
     "output_type": "stream",
     "text": [
      "Chatbot: Hello! I'm your friendly chatbot. Type 'exit' to end the conversation.\n"
     ]
    },
    {
     "name": "stdin",
     "output_type": "stream",
     "text": [
      "You:  hello\n"
     ]
    },
    {
     "name": "stdout",
     "output_type": "stream",
     "text": [
      "Chatbot: How can I help you?\n"
     ]
    },
    {
     "name": "stdin",
     "output_type": "stream",
     "text": [
      "You:  how r u\n"
     ]
    },
    {
     "name": "stdout",
     "output_type": "stream",
     "text": [
      "Chatbot: I'm not sure how to respond to that. Could you rephrase that?\n"
     ]
    },
    {
     "name": "stdin",
     "output_type": "stream",
     "text": [
      "You:  hey\n"
     ]
    },
    {
     "name": "stdout",
     "output_type": "stream",
     "text": [
      "Chatbot: How can I help you?\n"
     ]
    },
    {
     "name": "stdin",
     "output_type": "stream",
     "text": [
      "You:  hello\n"
     ]
    },
    {
     "name": "stdout",
     "output_type": "stream",
     "text": [
      "Chatbot: Hey, what's going on?\n"
     ]
    },
    {
     "name": "stdin",
     "output_type": "stream",
     "text": [
      "You:  see u later\n"
     ]
    },
    {
     "name": "stdout",
     "output_type": "stream",
     "text": [
      "Chatbot: I'm not sure how to respond to that. Could you rephrase that?\n"
     ]
    },
    {
     "name": "stdin",
     "output_type": "stream",
     "text": [
      "You:  hloooo\n"
     ]
    },
    {
     "name": "stdout",
     "output_type": "stream",
     "text": [
      "Chatbot: I'm not sure how to respond to that. Could you rephrase that?\n"
     ]
    }
   ],
   "source": [
    "import random # Generating random numbers\n",
    "import nltk  # NLP module\n",
    "from nltk.stem import PorterStemmer\n",
    "# Initialize NLTK and download required resources\n",
    "nltk.download('punkt_tab')\n",
    "\n",
    "stemmer = PorterStemmer()\n",
    " \n",
    "data = {\n",
    "    \"greetings\": [\"hello\", \"hi\", \"hey\", \"howdy\", \"hola\", \"good morning\", \"good afternoon\", \"good evening\", \"what's up\", \"yo\"],\n",
    "    \"responses\": [\"Hello!\", \"Hi there!\", \"Hey!\", \"Greetings!\", \"How can I help you?\", \"Nice to see you!\", \"Hi, how are you?\", \"Hey, what's going on?\"],\n",
    "    \"farewells\": [\"bye\", \"goodbye\", \"see you later\", \"take care\", \"farewell\", \"have a good day\", \"catch you later\"],\n",
    "    \"farewell_responses\": [\"Goodbye!\", \"See you later!\", \"Take care!\", \"Have a great day!\", \"Bye! Come back soon!\", \"Farewell!\"],\n",
    "    \"questions\": [\"how are you\", \"what's your name\", \"what can you do\", \"who created you\", \"what's the weather today\"],\n",
    "    \"question_responses\": [\"I'm just a bot, but I'm doing great!\", \"I'm your friendly chatbot!\", \"I can answer questions and chat with you.\", \"I was created to test.\", \"I don't know the weather, but you can check online!\"],\n",
    "    \"small_talk\": [\"tell me a joke\", \"what's new\", \"how's it going\", \"what are you up to\"],\n",
    "    \"small_talk_responses\": [\"Why don't scientists trust atoms? Because they make up everything!\", \"Not much, just here to chat with you!\", \"It's going well, thanks for asking!\", \"Just waiting to help you out!\"],\n",
    "}\n",
    "\n",
    "# Map intent categories to their corresponding response categories\n",
    "INTENT_RESPONSE_MAP = {\n",
    "    \"greetings\": \"responses\",\n",
    "    \"farewells\": \"farewell_responses\",\n",
    "    \"questions\": \"question_responses\",\n",
    "    \"small_talk\": \"small_talk_responses\"\n",
    "}\n",
    "def preprocess(sentence):\n",
    "    \"\"\"Tokenize and stem the input sentence\"\"\"\n",
    "    tokens = nltk.word_tokenize(sentence.lower())\n",
    "    return [stemmer.stem(token) for token in tokens]\n",
    "\n",
    "def get_response(user_input):\n",
    "    \"\"\"Return a response based on the user's input\"\"\"\n",
    "    processed_input = preprocess(user_input)\n",
    "\n",
    "    # Check all pattern categories\n",
    "    for intent_category, response_category in INTENT_RESPONSE_MAP.items():\n",
    "        for pattern in data[intent_category]:\n",
    "            processed_pattern = preprocess(pattern)\n",
    "            if set(processed_pattern).issubset(set(processed_input)):  # More accurate matching\n",
    "                return random.choice(data[response_category])\n",
    "            \n",
    "    # Fallback response for unknown inputs\n",
    "    return \"I'm not sure how to respond to that. Could you rephrase that?\"\n",
    "\n",
    "def chat():\n",
    "    \"\"\"Main chatbot function\"\"\"\n",
    "    print(\"Chatbot: Hello! I'm your friendly chatbot. Type 'exit' to end the conversation.\")\n",
    "    while True:\n",
    "        user_input = input(\"You: \").strip()\n",
    "        if user_input.lower() == \"exit\":\n",
    "            print(\"Chatbot: Goodbye! Have a great day!\")\n",
    "            break\n",
    "        response = get_response(user_input)\n",
    "        print(f\"Chatbot: {response}\")\n",
    "\n",
    "if __name__ == \"__main__\":\n",
    "    chat()"
   ]
  },
  {
   "cell_type": "code",
   "execution_count": null,
   "id": "8ad31f7d-2442-4784-ac49-542c14278596",
   "metadata": {},
   "outputs": [],
   "source": [
    "\n"
   ]
  }
 ],
 "metadata": {
  "kernelspec": {
   "display_name": "Python 3 (ipykernel)",
   "language": "python",
   "name": "python3"
  },
  "language_info": {
   "codemirror_mode": {
    "name": "ipython",
    "version": 3
   },
   "file_extension": ".py",
   "mimetype": "text/x-python",
   "name": "python",
   "nbconvert_exporter": "python",
   "pygments_lexer": "ipython3",
   "version": "3.12.4"
  }
 },
 "nbformat": 4,
 "nbformat_minor": 5
}
