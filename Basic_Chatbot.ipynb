{
 "cells": [
  {
   "cell_type": "code",
   "execution_count": null,
   "metadata": {},
   "outputs": [
    {
     "name": "stdout",
     "output_type": "stream",
     "text": [
      "Chatbot: Hello! Type 'bye' to exit.\n",
      "Chatbot: Sorry, I do not understand your question.\n",
      "Chatbot: Sorry, I do not understand your question.\n",
      "Chatbot: Hello! How can I help you?\n",
      "Chatbot: Hello! How can I help you?\n"
     ]
    }
   ],
   "source": [
    "def chatbot_response(user_input):\n",
    "    user_input = user_input.lower()\n",
    "    if 'hello' in user_input or 'hi' in user_input:\n",
    "        return 'Hello! How can I help you?'\n",
    "    elif 'how are you' in user_input:\n",
    "        return 'I am just a bot,but I am always here to help you.'\n",
    "    elif 'bye' in user_input or 'goodbye' in user_input:\n",
    "        return 'Goodbye! Have a nice day!'\n",
    "    elif 'name' in user_input:\n",
    "        return 'My name is Chatbot created to help you.'\n",
    "    elif 'help' in user_input:\n",
    "        return 'I can help you with your queries. Please ask me anything.'\n",
    "    else:\n",
    "        return 'Sorry, I do not understand your question.'\n",
    "    \n",
    "def run_chatbot():\n",
    "    print(\"Chatbot: Hello! Type 'bye' to exit.\")\n",
    "    while True:\n",
    "        user_input = input(\"You: \")\n",
    "        response = chatbot_response(user_input)\n",
    "        print(\"Chatbot:\", response)\n",
    "        if 'bye' in user_input:\n",
    "            break\n",
    "        else:\n",
    "            response = chatbot_response(user_input)\n",
    "            print(\"Chatbot:\", response)\n",
    "run_chatbot()            \n"
   ]
  },
  {
   "cell_type": "code",
   "execution_count": null,
   "metadata": {},
   "outputs": [],
   "source": []
  }
 ],
 "metadata": {
  "kernelspec": {
   "display_name": "Python 3",
   "language": "python",
   "name": "python3"
  },
  "language_info": {
   "codemirror_mode": {
    "name": "ipython",
    "version": 3
   },
   "file_extension": ".py",
   "mimetype": "text/x-python",
   "name": "python",
   "nbconvert_exporter": "python",
   "pygments_lexer": "ipython3",
   "version": "3.12.4"
  }
 },
 "nbformat": 4,
 "nbformat_minor": 2
}
