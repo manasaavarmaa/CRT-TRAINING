{
  "nbformat": 4,
  "nbformat_minor": 0,
  "metadata": {
    "colab": {
      "provenance": [],
      "authorship_tag": "ABX9TyPrZOpQqntCpzu2d6+WpfqI",
      "include_colab_link": true
    },
    "kernelspec": {
      "name": "python3",
      "display_name": "Python 3"
    },
    "language_info": {
      "name": "python"
    }
  },
  "cells": [
    {
      "cell_type": "markdown",
      "metadata": {
        "id": "view-in-github",
        "colab_type": "text"
      },
      "source": [
        "<a href=\"https://colab.research.google.com/github/manasaavarmaa/CRT-TRAINING/blob/main/Cosine_Similarity.ipynb\" target=\"_parent\"><img src=\"https://colab.research.google.com/assets/colab-badge.svg\" alt=\"Open In Colab\"/></a>"
      ]
    },
    {
      "cell_type": "code",
      "execution_count": null,
      "metadata": {
        "id": "pcGBZpKX5VQZ"
      },
      "outputs": [],
      "source": [
        "#cosine similarity\n",
        "import nltk\n",
        "import string\n",
        "import numpy as np\n",
        "from sklearn.feature_extraction.text import TfidfVectorizer\n",
        "from sklearn.metrics.pairwise import cosine_similarity\n",
        "from nltk.corpus import stopwords\n",
        "from nltk.tokenize import word_tokenize\n",
        "from nltk.stem import WordNetLemmatizer"
      ]
    },
    {
      "cell_type": "code",
      "source": [
        "nltk.download('punkt')\n",
        "nltk.download(\"punkt_tab\")\n",
        "nltk.download('stopwords')\n",
        "nltk.download(\"wordnet\")"
      ],
      "metadata": {
        "colab": {
          "base_uri": "https://localhost:8080/"
        },
        "id": "zK9lnB5I6HId",
        "outputId": "f1e0505e-180f-4831-903d-8c55298e499a"
      },
      "execution_count": null,
      "outputs": [
        {
          "output_type": "stream",
          "name": "stderr",
          "text": [
            "[nltk_data] Downloading package punkt to /root/nltk_data...\n",
            "[nltk_data]   Package punkt is already up-to-date!\n",
            "[nltk_data] Downloading package punkt_tab to /root/nltk_data...\n",
            "[nltk_data]   Package punkt_tab is already up-to-date!\n",
            "[nltk_data] Downloading package stopwords to /root/nltk_data...\n",
            "[nltk_data]   Package stopwords is already up-to-date!\n",
            "[nltk_data] Downloading package wordnet to /root/nltk_data...\n",
            "[nltk_data]   Package wordnet is already up-to-date!\n"
          ]
        },
        {
          "output_type": "execute_result",
          "data": {
            "text/plain": [
              "True"
            ]
          },
          "metadata": {},
          "execution_count": 11
        }
      ]
    },
    {
      "cell_type": "code",
      "source": [
        "review_1='the movie was so fantastic! the acting and plot twist was good'\n",
        "review_2='the movie was so bad! the acting and plot twist was bad'"
      ],
      "metadata": {
        "id": "bJK7uAXD-LQh"
      },
      "execution_count": null,
      "outputs": []
    },
    {
      "cell_type": "code",
      "source": [
        "def preprocess_text(text):\n",
        "  tokenize=word_tokenize(text)\n",
        "  tokenize=[word.lower() for word in tokenize]\n",
        "  stop_words=set(stopwords.words(\"english\"))\n",
        "  tokenize=[word for word in tokenize if word not in stop_words]\n",
        "  lemmatizer=WordNetLemmatizer()\n",
        "  tokenize=[lemmatizer.lemmatize(word) for word in tokenize]\n",
        "  return \" \".join(tokenize)"
      ],
      "metadata": {
        "id": "Z275DHF_7Jkr"
      },
      "execution_count": null,
      "outputs": []
    },
    {
      "cell_type": "code",
      "source": [
        "a=preprocess_text(review_1)\n",
        "b=preprocess_text(review_2)\n",
        "print(a)\n",
        "print(b)"
      ],
      "metadata": {
        "colab": {
          "base_uri": "https://localhost:8080/"
        },
        "id": "I3UwESTW9ZGr",
        "outputId": "cae7cf02-3505-4970-f841-feef8bed01dd"
      },
      "execution_count": null,
      "outputs": [
        {
          "output_type": "stream",
          "name": "stdout",
          "text": [
            "movie fantastic ! acting plot twist good\n",
            "movie bad ! acting plot twist bad\n"
          ]
        }
      ]
    },
    {
      "cell_type": "code",
      "source": [
        "vectorizer=TfidfVectorizer()\n",
        "vectors=vectorizer.fit_transform([a,b])\n",
        "print(vectors)\n"
      ],
      "metadata": {
        "colab": {
          "base_uri": "https://localhost:8080/"
        },
        "id": "SyIcpRRt-9kL",
        "outputId": "67fd9961-8c08-444e-a30c-ecad56e22efd"
      },
      "execution_count": null,
      "outputs": [
        {
          "output_type": "stream",
          "name": "stdout",
          "text": [
            "  (0, 4)\t0.35464863330313684\n",
            "  (0, 2)\t0.49844627974580596\n",
            "  (0, 0)\t0.35464863330313684\n",
            "  (0, 5)\t0.35464863330313684\n",
            "  (0, 6)\t0.35464863330313684\n",
            "  (0, 3)\t0.49844627974580596\n",
            "  (1, 4)\t0.28986933576883284\n",
            "  (1, 0)\t0.28986933576883284\n",
            "  (1, 5)\t0.28986933576883284\n",
            "  (1, 6)\t0.28986933576883284\n",
            "  (1, 1)\t0.8148024746671689\n"
          ]
        }
      ]
    },
    {
      "cell_type": "code",
      "source": [
        "# Fix the issue by renaming the variable holding the previous result\n",
        "# and calling the cosine_similarity function again.\n",
        "from sklearn.metrics.pairwise import cosine_similarity  # Ensure it's imported\n",
        "\n",
        "previous_cosine_sim = cosine_similarity  # Rename the existing variable\n",
        "cosine_sim = cosine_similarity(vectors)  # Calculate cosine similarity again\n",
        "print(cosine_sim)"
      ],
      "metadata": {
        "colab": {
          "base_uri": "https://localhost:8080/"
        },
        "id": "JHDG0HXnC8Bg",
        "outputId": "332ad70c-7153-461c-9960-2e52bd050542"
      },
      "execution_count": 38,
      "outputs": [
        {
          "output_type": "stream",
          "name": "stdout",
          "text": [
            "[[1.         0.41120706]\n",
            " [0.41120706 1.        ]]\n"
          ]
        }
      ]
    },
    {
      "cell_type": "code",
      "source": [],
      "metadata": {
        "id": "-ZC29MC-C8z6"
      },
      "execution_count": null,
      "outputs": []
    }
  ]
}