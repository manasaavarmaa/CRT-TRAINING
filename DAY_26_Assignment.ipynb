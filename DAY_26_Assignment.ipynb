{
  "nbformat": 4,
  "nbformat_minor": 0,
  "metadata": {
    "colab": {
      "provenance": []
    },
    "kernelspec": {
      "name": "python3",
      "display_name": "Python 3"
    },
    "language_info": {
      "name": "python"
    }
  },
  "cells": [
    {
      "cell_type": "code",
      "source": [
        "from sklearn.feature_extraction.text import TfidfVectorizer\n",
        "from sklearn.metrics.pairwise import cosine_similarity\n",
        "\n",
        "def calculate_cosine_similarity(text1, text2):\n",
        "    vectorizer = TfidfVectorizer()\n",
        "    vectors = vectorizer.fit_transform([text1, text2])\n",
        "    similarity = cosine_similarity(vectors[0], vectors[1])[0][0]\n",
        "    return similarity\n",
        "\n",
        "# Example usage\n",
        "text1 = \"This is the first document.\"\n",
        "text2 = \"This document is the second document.\"\n",
        "similarity = calculate_cosine_similarity(text1, text2)\n",
        "print(f\"Cosine similarity between the two texts: {similarity}\")\n"
      ],
      "metadata": {
        "colab": {
          "base_uri": "https://localhost:8080/"
        },
        "id": "4iBEz_eTLClK",
        "outputId": "a167b1f6-3cf5-4e9d-91d6-73f4b1f112b1"
      },
      "execution_count": 10,
      "outputs": [
        {
          "output_type": "stream",
          "name": "stdout",
          "text": [
            "Cosine similarity between the two texts: 0.6827531502984261\n"
          ]
        }
      ]
    }
  ]
}