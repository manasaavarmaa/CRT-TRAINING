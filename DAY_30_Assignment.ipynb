{
  "nbformat": 4,
  "nbformat_minor": 0,
  "metadata": {
    "colab": {
      "provenance": []
    },
    "kernelspec": {
      "name": "python3",
      "display_name": "Python 3"
    },
    "language_info": {
      "name": "python"
    }
  },
  "cells": [
    {
      "cell_type": "code",
      "source": [
        "from textblob import TextBlob\n",
        "\n",
        "# Sample text (you can replace this with your own text)\n",
        "text = \"This is an amazing product! I love it.\"\n",
        "\n",
        "# Create a TextBlob object\n",
        "analysis = TextBlob(text)\n",
        "\n",
        "# Get the sentiment polarity\n",
        "polarity = analysis.sentiment.polarity\n",
        "\n",
        "# Determine the sentiment\n",
        "if polarity > 0:\n",
        "  sentiment = \"positive\"\n",
        "elif polarity < 0:\n",
        "  sentiment = \"negative\"\n",
        "else:\n",
        "  sentiment = \"neutral\"\n",
        "\n",
        "# Print the sentiment\n",
        "print(f\"Sentiment: {sentiment}\")"
      ],
      "metadata": {
        "colab": {
          "base_uri": "https://localhost:8080/"
        },
        "id": "2fA99okFN70D",
        "outputId": "591de41f-4184-4659-9208-c4f4f4cd4d04"
      },
      "execution_count": 12,
      "outputs": [
        {
          "output_type": "stream",
          "name": "stdout",
          "text": [
            "Sentiment: positive\n"
          ]
        }
      ]
    }
  ]
}