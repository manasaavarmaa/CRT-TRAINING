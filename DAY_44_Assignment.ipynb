{
  "nbformat": 4,
  "nbformat_minor": 0,
  "metadata": {
    "colab": {
      "provenance": []
    },
    "kernelspec": {
      "name": "python3",
      "display_name": "Python 3"
    },
    "language_info": {
      "name": "python"
    }
  },
  "cells": [
    {
      "cell_type": "code",
      "source": [
        "def simple_chatbot():\n",
        "  user_input = input(\"You: \")\n",
        "  if user_input == \"Hello\":\n",
        "    print(\"Bot: Hi! How can I help you?\")\n",
        "  elif user_input == \"Bye\":\n",
        "    print(\"Bot: Goodbye! Have a nice day!\")\n",
        "  else:\n",
        "    print(\"Bot: I'm not sure how to respond to that.\")\n",
        "\n",
        "simple_chatbot()"
      ],
      "metadata": {
        "colab": {
          "base_uri": "https://localhost:8080/"
        },
        "id": "vuaqZGikRAU9",
        "outputId": "a71f8d5d-a8fa-4996-a701-a6cbce456e5f"
      },
      "execution_count": 23,
      "outputs": [
        {
          "output_type": "stream",
          "name": "stdout",
          "text": [
            "You: Hello\n",
            "Bot: Hi! How can I help you?\n"
          ]
        }
      ]
    },
    {
      "cell_type": "code",
      "source": [],
      "metadata": {
        "id": "TFqwBI-tRvTi"
      },
      "execution_count": null,
      "outputs": []
    }
  ]
}