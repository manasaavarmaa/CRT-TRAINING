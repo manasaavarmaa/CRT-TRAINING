{
  "nbformat": 4,
  "nbformat_minor": 0,
  "metadata": {
    "colab": {
      "provenance": []
    },
    "kernelspec": {
      "name": "python3",
      "display_name": "Python 3"
    },
    "language_info": {
      "name": "python"
    }
  },
  "cells": [
    {
      "cell_type": "code",
      "source": [
        "def simple_chatbot():\n",
        "  responses = {\n",
        "      \"Hello\": \"Hi! How can I help you?\",\n",
        "      \"How are you?\": \"I'm doing well, thank you!\",\n",
        "      \"Bye\": \"Goodbye! Have a nice day!\"\n",
        "  }\n",
        "  user_input = input(\"You: \")\n",
        "  if user_input in responses:\n",
        "    print(\"Bot:\", responses[user_input])\n",
        "  else:\n",
        "    print(\"Bot: I'm not sure how to respond to that.\")\n",
        "\n",
        "simple_chatbot()\n"
      ],
      "metadata": {
        "colab": {
          "base_uri": "https://localhost:8080/"
        },
        "id": "yC7OSS7eSFRn",
        "outputId": "f1418585-97ef-4d3f-8992-07cf2d28d379"
      },
      "execution_count": 25,
      "outputs": [
        {
          "output_type": "stream",
          "name": "stdout",
          "text": [
            "You: How are you?\n",
            "Bot: I'm doing well, thank you!\n"
          ]
        }
      ]
    },
    {
      "cell_type": "code",
      "source": [],
      "metadata": {
        "id": "dPl3VP7JSF7W"
      },
      "execution_count": null,
      "outputs": []
    }
  ]
}