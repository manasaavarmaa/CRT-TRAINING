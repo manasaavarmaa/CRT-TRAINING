{
 "cells": [
  {
   "cell_type": "code",
   "execution_count": 1,
   "metadata": {},
   "outputs": [],
   "source": [
    "from selenium import webdriver\n",
    "from selenium.webdriver.common.by import By\n"
   ]
  },
  {
   "cell_type": "code",
   "execution_count": 2,
   "metadata": {},
   "outputs": [],
   "source": [
    "dr = webdriver.Chrome()"
   ]
  },
  {
   "cell_type": "code",
   "execution_count": 5,
   "metadata": {},
   "outputs": [],
   "source": [
    "dr.get(\"https://flipkart.com\")"
   ]
  },
  {
   "cell_type": "code",
   "execution_count": 19,
   "metadata": {},
   "outputs": [],
   "source": [
    "#for finding element use find_element function\n",
    "mobile = dr.find_element(By.XPATH, \"//img[@alt='Mobiles']\")#In flipkart page,right click then click on >> Selectors Hub\n",
    "# copy Rel XPATH\n"
   ]
  },
  {
   "cell_type": "code",
   "execution_count": 20,
   "metadata": {},
   "outputs": [],
   "source": [
    "mobile.click()"
   ]
  },
  {
   "cell_type": "code",
   "execution_count": 21,
   "metadata": {},
   "outputs": [],
   "source": [
    "data = dr.find_element(By.XPATH,\"//div[@id='container']\")"
   ]
  },
  {
   "cell_type": "code",
   "execution_count": 22,
   "metadata": {},
   "outputs": [
    {
     "name": "stdout",
     "output_type": "stream",
     "text": [
      "Explore Plus\n",
      "Login\n",
      "Become a Seller\n",
      "More\n",
      "Cart\n",
      "Electronics\n",
      "TVs & Appliances\n",
      "Men\n",
      "Women\n",
      "Baby & Kids\n",
      "Home & Furniture\n",
      "Sports, Books & More\n",
      "Flights\n",
      "Offer Zone\n",
      "Mobile Phones\n",
      "Mobile phones are no more merely a part of our lives. Whether it's to stay connected with friends and family or to keep abreast of important developments around the world, mobiles are no longer for sending a text or making a call. From budget to state-of-the-art smartphones; indigenous names to global big-wigs - a whole universe of mobiles await you on Flipkart. Whether you’re looking for waterdrop notch screens, a high screen to body ratio, AI-powered sensational cameras, high storage capacity, blazing quick processing engines or reflective glass designs, rest assured you won’t have to venture anywhere else for your smartphone needs. The information you are reading has been last updated on 30-Jan-25. \n",
      "REDMI Note 14 Pro+ 5G | iPhone 16 | iPhone 15 | iPhone 15 Plus | iPhone 15 Pro | iPhone 15 Pro Max | Vivo x 100 | OPPO Find X8 | Pixel 7a | Moto Edge 40 | POCO C55 | Samsung Galaxy S24 5G\n",
      "\n",
      "Also Check out the Exchange offers on Mobile Phone. \n",
      "Mobile Phones- Buy mobile phones online at best prices in India\n",
      "Mobile phone, also called a cell phone owing to it using a cellular network architecture, have seen a tremendous growth in terms of technology and size over the years. On Flipkart, we have a diverse collection of iOS and Android mobiles ranging from basic mobiles, low-range and mid-range phones to very high-end smartphones that\n",
      "Realme P1 5G | vivo T3 Pro 5G |  POCO C75 5G |  Realme 14x 5G |  Realme 12x 5G |  Vivo T3 Ultra 5G |  POCO M7 Pro 5G |  Motorola G64 5G\n",
      "  iPhone 16\n",
      "Enjoy the blend of smooth performance and stylish designs with the iPhone 16. This device comes with an A18 chip that features smart camera control. It also has an action button that provides seamless access to useful features, making your work easier. Whether you are in an important meeting or frequently travelling, this device can come in handy. The iPhone 16 in India helps you to enjoy the easy-to-use artificial intelligence system. Built for Apple Intelligence, the device can appeal to the tech-head in you. Additionally, the iPhone 16 offers a 48 MP + 12 MP primary camera so that you can click vibrant photos and record engaging videos. You also get a 12 MP front camera, allowing you to click selfies and group pictures. The camera of the iPhone 16 can, thus, enable you to relive life’s precious memories. Moreover, with systemwide writing tools built into the iOS, you can rewrite, proofread, and summarise text with ease. These tools help you with mail, notes, and third-party apps. Before adding this device to your shopping cart, check the iPhone 16’s price and the unique features it offers. Buy the iPhone 16 online with a few clicks and make a secure payment to get doorstep delivery.\n",
      "  iPhone 16 Plus\n",
      "Enjoy the seamless performance of the iPhone 16 Plus while playing games or multitasking on several applications. It has features with advanced technology to deliver exceptional experience while navigating through it. Equipped with an A18 chip and a 6-core processor, this iPhone 16 Plus offers seamless performance whether you are working or streaming. You can also enjoy watching videos on its wide 17.02 cm screen. The screen has a Super Retina XDR Display that makes the visuals appealing with stunning colour schemes and exceptional clarity. You can have a cinematic experience while watching videos or playing games on the phone. Additionally, this iPhone 16 Plus in India has a built-in stereo speaker that produces high-quality audio that elevates your media experience. You can also enjoy your passion for photography and videography on the iPhone 16 Plus with its dual camera setup. It has an ultra-wide 48 MP lens on the front camera and a 12 MP secondary camera. You can capture macro shots and intimate moments in the selfie mode with family and friends. The iPhone 16 Plus price is also an attractive feature, considering its advanced features. Check out the iPhone 16 Plus online and order it for a hassle-free delivery.\n",
      "  iPhone 16 Pro\n",
      "Shake up your tech life and day-to-day style with the stunning Apple iPhone 16 Pro. This smartphone's gorgeous 16 cm (6.3) Super Retina XDR display performs an amazing job of preserving all the colours and intricacies of the images displayed on the screen. This smartphone has a three-camera set-up: a 48 MP Ultra Wide camera, a 48 MP Fusion Camera, and a 12 MP 5X telephoto camera. Its fun three-camera setup is ideal for capturing the minute details in the images you click. Additionally, a 12 MP front camera is included for taking selfies, making calls, and other activities. There is dual SIM functionality available with the iPhone 16 Pro (India). Depending on your mode of payment you can get access to additional iPhone 16 Pro offers while purchasing your iPhone 16 Pro online. You can also trade in your old to make the iPhone 16 Pro’s price more favourable. You can also check out the ratings and reviews left by other customers to help you make up your mind. Shop now for the iPhone 16 Pro and get it delivered straight to your home. \n",
      "  iPhone 16 Pro Max\n",
      "With the Apple iPhone 16 Pro Max, you can get your hands on the next generation of smartphones. The phone has a 17.53 cm (6.9) Super Retina XDR display, which provides clear details and realistic colors. The iPhone 16 Pro Max (India) comes with Dual SIM support to let you stay connected wherever you are.  Additionally, it has a three-camera configuration that produces incredibly detailed images with a resolution of up to 4K. With ease, high-resolution images and films may be captured with the three cameras in this setup: a 12 MP 5X telephoto, a 48 MP Ultra Wide, and a 48 MP Fusion camera. It also has a 12 MP front camera, which allows you to take pictures and participate in calls. The phone's 256 GB of internal storage, which makes it simple to save movies, images, and any other data you would want to keep private, is also helpful. Flipkart offers a price check for the iPhone 16 Pro Max online. A wide range of iPhone 16 Pro Max deals and discounts are available to you, contingent upon your preferred payment method. Purchasing an iPhone 16 Pro Max online is made simple by all of these deals and the availability of free EMIs. \n",
      "  OPPO Reno 12\n",
      "Are you looking for a new smartphone to suit all your tech needs and requirements? If yes, then the OPPO Reno 12 can be an ideal option for you. The smartphone is available with expandable memory of upto 1 TB to fit all your files and memories safely. Additionally, it is also enabled with BeaconLink. This feature allows you to make voice calls even when there's no mobile signal. Also, the smart technology used in this phone boosts Bluetooth power, so you can still reach out to those nearby. Moreover, this smartphone is incorporated with 5G as well as a 5000 mAh battery to add functionality. If you are a photography lover, the device with a 50 MP main camera OIS and a 32 MP selfie camera will be an ideal option. In addition, the smartphone’s exterior body has a 3D fluid design that mimics the look of waves, giving it a stellar appearance. To add more to the device’s neverending features, the smartphone also has various AI functions. It includes AI Eraser 2.0, AI Best Face, AI Clear Face, AI Studio, AI Smart Image Matting 2.0, AI Recording Summary, and more. Buy OPPO Reno 12 online and enjoy its various futuristic features and benefits. \n",
      "  iPhone 15\n",
      "Are you looking to buy a new phone from Apple? If yes, then you can have a look at the iPhone 15. Made of aerospace-grade aluminium and infused glass, the design of this phone has a robust finish, ensuring you can use the device securely. Featuring 128 GB ROM, the device can offer faster response and processing capacity, ensuring you have a smooth and hassle-free digital experience. The iPhone is also well-equipped with a 15.49 cm (6.1) Super Retina XDR display that can ensure an immersive experience when watching a film or series or participating in an online gaming session. If you are interested in photography, this phone can also become your go-to choice. With a 48 MP main camera, the device allows you to click crystal-clear pictures with absolute ease. The device also has a 12 MP front camera that makes sure that you can click stunning selfies that can capture your special moments. This device is also compatible with USB-C, ensuring that phone charging becomes a breeze. So, read the product descriptions of the iPhone 15 carefully and confirm your order to get hassle-free delivery. \n",
      "  iPhone 15 Plus\n",
      "Ready to elevate your smartphone еxpеriеncе with thе Apple iPhonе 15 Plus? Equippеd with fеaturеs like face ID, baromеtеr, and high dynamic rangе gyro, it ensures a seamless and sеcurе usеr еxpеriеncе. Morеovеr, with proximity sеnsor, dual ambiеnt light sеnsors, and high-G accеlеromеtеr, еvеry interaction becomes intuitivе and еffortlеss. Dual ambiеnt light sеnsors continuously monitor thе surrounding light conditions, allowing the dеvicе to dynamically adjust thе scrееn brightnеss for optimal visibility.  In addition to its imprеssivе tеchnical spеcifications, thе device offеrs you a world of options online. Whether you prefer thе sleek sophistication of black or thе vibrant allurе of bluе, this dеvicе is designed to cater to your prеfеrеncеs. Look into thе storagе capacity, еnsuring that you havе amplе spacе for all your photos, vidеos, and apps. Morеovеr, look into thе advanced sensors and functionalitiеs that elevate your smartphone еxpеriеncе to new heights. With doorstеp dеlivеry service, you can enjoy the еasе of having your nеw dеvicе arrivе right at your preferred location. Additionally, you can enjoy the sеcurе paymеnt options for a hasslе-frее shopping еxpеriеncе. Shop Applе iPhonе 15 Plus now and еxpеriеncе thе futurе of mobilе tеchnology firsthand. \n",
      "  iPhone 15 Pro\n",
      "Explorе thе nеw еra in mobilе tеchnology with thе iPhonе 15 Pro. With its sleek appearance and advancеd fеaturеs, this dеvicе stands as a tеstamеnt to sophistication and pеrformancе. Thе dеvicе allows you to toggle between ring and silеnt modеs еffortlеssly with thе action button. With a control cеntrе, you can swiftly accеss vital functions to customisе your dеvicе. This puts the power of customisation directly into your hands. Additionally, take advantage of USB 3 support for lightning-fast data transfer spееds and seamless connеctivity across your Applе systеm. With Dual SIM (Nano + еSIM) capability and thе convеniеncе of a supеr rеtina XDR display, thе dеvicе offеrs unparalleled versatility and functionality. Whеthеr you'rе drawn to thе classic allurе of black or thе striking vibrancy of bluе, thе iPhonе 15 Pro offеrs a palеttе of options to suit your stylе. In addition to its impressive fеaturеs, consider the еasе and convenience of doorstep delivery. Simply check the various payment options available online. Enjoy thе pеacе of mind knowing that your dеvicе will be delivered directly to your prеfеrrеd location. Elеvatе your mobilе еxpеriеncе today with thе iPhonе 15 Pro. Shop now and embrace the future of technology with confidence. \n",
      "  iPhone 15 Pro Max\n",
      "Stеp into thе futurе with thе all-nеw iPhonе 15 Pro Max, whеrе innovation mееts еlеgancе. With its slееk titanium dеsign and cеramic shiеld front, this dеvicе is engineered to imprеss. Thе tеxturеd matte glass back adds a premium touch to your device. Additionally, it еnsurеs a sеcurе grip in your hand. In addition, this device supports MagSafe wireless charging technology for seamless charging еxpеriеncеs. It dеlivеrs up to 15W of power.  Whеrеas, Qi wirеlеss charging providеs up to 7.5 W. Morеovеr, its fast chargе capability еnsurеs that you can gеt up to 50% chargе in around 30 minutes. Whеn you chеck out thе options availablе onlinе, you will find thе iPhonе in stunning shadеs of black and bluе. It offers you thе freedom to choose a shadе that matchеs your stylе. Explorе other features like advanced camеra capabilities and immеrsivе display. By purchasing iPhonе 15 Pro Max online, you can enjoy the ease of doorstеp dеlivеry service. Simply place your order onlinе, and your chosen dеvicе will be delivered to your prеfеrrеd location. Additionally, onlinе shopping offеrs you a sеcurе paymеnt option. Shop now and stеp into a world of innovation and sophistication. \n",
      "  CMF by Nohing Phone 1\n",
      "Enjoy a minimalistic design and powerful battery with CMF by Nothing Phone 1. This device is ideal for professional and new photographers, as it has a quality front and rear camera. With a 50 MP Sony rear camera, you can click both clear portrait and landscape pictures. Whether you are meeting your loved ones at a house party or attending a special event, click a selfie with the 16 MP front camera. This device can be ideal for passionate and frequent travellers, as it comes with a long-lasting 5000 mAh battery. The powerful battery life ensures the gadget does not require frequent recharging, no matter where you go. Before adding this gadget to your shopping cart, you need to check the CMF Phone 1 price and its unique features. If you love playing games on your phone or watching movies, this phone can be your ideal choice. It comes with a 2000 nits display to offer peak brightness, and the Super AMOLED display can enhance your overall experience. Additionally, this phone comes with a Dimensity 7300 5G processor, ensuring a smooth experience. Buy this CMF by Nothing Phone 1 online to simplify your tech life and get doorstep delivery.\n",
      "  Nothing Phone 2a\n",
      "Unlock thе door to an extraordinary gaming еxpеriеncе with Nothing 2a. Thе phonе еnsurеs that еvеn in thе most challеnging conditions, contrast details arе capturеd with prеcision. Its lag-free performance makеs it idеal for high-action еvеnts like sports games or concеrts, whеrе you don't want to miss a single momеnt. Additionally, the Glyph Interface еnhancеs your gaming еxpеriеncе by providing unparalleled clarity and definition. You can expеriеncе enhanced immersion in the gaming world with vivid display clarity that brings еvеry pixel to lifе. Thе advancеd cooling systеm ensures prolonged gaming sessions without concеrns of ovеrhеating. Additionally, its versatility extends to other activitiеs whеrе visual prеcision is paramount. Whеthеr you arе watching moviеs, еditing photos, or strеaming your favouritе contеnt, this phonе dеlivеrs stunning imagе quality еvеry timе. Thе phonе is equipped with an array of sensors to enhance your overall usеr еxpеriеncе. From thе in-display fingerprint sensor for convenient and sеcurе unlocking to thе accеlеromеtеr, еlеctronic compass, gyroscopе, ambiеnt light sеnsor, proximity sеnsor, and sеnsor corе, this dеvicе has everything you need to stay connеctеd and productivе throughout thе day. Check out Nothing 2a today and еlеvatе your gaming еxpеriеncе to new heights. \n",
      "  Redmi Note 13 Pro Plus\n",
      "Redefine your photography skills with the help of Redmi Note 13 Pro+. With the help of the stunning camera settings of the device, you can capture the special moments of your life with absolute ease. The phone is well-equipped with a rear camera setting of 200 MP (OIS) + 8 MP + 2 MP that allows you to take crystal clear photos without any additional hassle. Features like depth control and long exposure can also help you to get sharp clicks with your smartphone. Moreover, if you are someone who enjoys taking self-portraits, this device can also come in handy for you. With its 16 MP front camera, you can click remarkable selfies. In addition to photography, the device might have added appeal to you if you also enjoy videography. The camera settings of the phone allow video recording up to 4 K resolution, giving them an unmatched cinematic feel. You also do not have to worry about running out of phone memory when it comes to storing these videos and photos taken. The mobile has a storage capacity of 256 GB, ensuring that your multimedia files can be saved easily. So, place your order for the Redmi Note 13 Pro+ online and enjoy the benefits of getting it delivered right to your doorstep. \n",
      "  Samsung Galaxy Z Flip 5\n",
      "Explore the Samsung Galaxy Z Flip 5 online, which introducеs you to a rеmarkablе dеvicе packed with standout features. Imaginе having a powerful phonе with 8 GB RAM and a suitable storagе spacе, еnsuring smooth pеrformancе and amplе room for all your apps, photos, and vidеos. It's likе having a pockеt-sizеd powеrhousе rеady for anything. Thе phonе boasts a slееk 17.02 cm (6.7) display, providing a vibrant and immеrsivе visual еxpеriеncе. Enjoy your favouritе moviеs, gamеs, or social mеdia on a scrееn that's both compact and еxpansivе and can fit right in your pockеt. Capturе your momеnts in stunning dеtail with thе 12 MP dual rеar camеras for beautiful selfies. Whether it's a landscapе or a mеmorablе selfie, thе Samsung Z Flip 5's camera systеm еnsurеs your photos look imprеssivе. With a rеliablе 3700 mAh battеry, thе phonе kееps up with your busy day, еnsuring you stay connеctеd and еntеrtainеd without worrying about running out of powеr. Powеrеd by thе Snapdragon 8 Gеn 2 Procеssor, thе Galaxy Z Flip 5 еnsurеs spееdy pеrformancе, making multitasking and navigating through apps a seamless еxpеriеncе. So, buy the Samsung Galaxy Z Flip 5 online and get it delivered to your doorstep with just a few clicks and swipes.\n",
      "  Samsung Galaxy Z Fold 5\n",
      "Get ready to unfold a new chapter in smartphone technology with the Samsung Galaxy Z Fold 5. Crafted with precision, the device exudes sophistication with its sleek design and premium materials. Whether you're watching your favourite movies, multitasking with multiple apps, or diving into the latest mobile games, the foldable display effortlessly adapts to your needs. The immersive visuals are complemented by a buttery-smooth 120 Hz refresh rate, ensuring every swipe and scroll is as fluid as it is mesmerising. Furthermore, the device boasts a robust yet lightweight frame that effortlessly folds and unfolds, making it a suitable companion for those who demand versatility without compromising on style. The Gorilla Glass Victus on the cover and display ensures durability, while the sleek aluminium frame adds a touch of sophistication. The Multi-active Window feature allows you to run multiple apps simultaneously, transforming your device into a powerful productivity tool. Be it working on a presentation, responding to emails, or conducting a video call, the Samsung Z Fold 5 adapts to your workflow, making every task a breeze. So shop online now and unfold a world of infinite possibilities to elevate your mobile experience like never before!\n",
      "  Pixel 7a\n",
      "Make the Google Pixel 7a your first smartphone or your upgrade from your old model. This phone can capture and immortalise your precious moments, provide a calling experience with minimal issues, keep your information secure, and do more. The Tensor G2 processor ensures that these tasks are completed with minimal lag. The Pixel smartphone also makes sure that hours of screen time does not drain your battery quickly. The 4300 mAh battery offers almost 24 hours of battery life, while the extreme battery saver mode can give you nearly three days of battery life. Additionally, you can also quickly charge the battery thanks to Fast Charge when needed. The long battery life helps you click photographs and videos using the 64 MP main camera and 13 MP ultra-wide camera endlessly. You can also click a selfie with the 13 MP front camera, which has a 95-degree wide field of view. Check the Google Pixel 7a price and pick from colours like Charcoal, Sea, and Snow. Shop for the Google Pixel 7a (in) India model, which has a scratch-resistant Corning Gorilla Glass 3 cover, an IP67 rating, and a fingerprint-resistant coating that can keep the aesthetics of the Pixel 7a unharmed. Explore various other features of the smartphone and purchase it to experience the Google interface.\n",
      "  Oppo Find N2 Flip\n",
      "Get the Oppo Find N2 Flip mobile phone to bring home a whole range of exciting features. Fitted with a Flexion Hinge the Oppo Find N2 folds in half to let you view calls, notifications, reminders, and more on a 8.28 cm (3.26) screen. When not using the cover screen, this phone uses its 17.27 cm (6.8) Full HD display for visuals. Made using high-grade steel and a polymer, the hinge can be folded around 400,000 times without wearing out. The phone is powered by a 4300 mAh battery that offers backup for up to 20 hours of video playback, 6 hours of video calling, and around 16 hours of internet browsing. This powerful battery can be charged to up to 50% in just 23 minutes thanks to the 44 W SUPERVOOC Flash Charge. All of these features are tied together by the MediaTek Dimensity 9000+ processor that is more than able to handle multiple operations simultaneously. The phone runs on ColorOS that compliments the aesthetic design of the phone and makes the UI clean and intuitive. Get your hands on the Oppo Find N2 Flip online and have it safely delivered to your door.\n",
      " \n",
      "Mobile Brands:\n",
      "Asus Mobile Realme Mobile iPhone Lenovo Mobile Google Pixel Mobile\n",
      "Poco Mobile HTC Mobile Mi Mobile Motorola Mobile LG Mobile\n",
      "Nokia Mobile Iqoo Mobile Panasonic Mobile Samsung Mobile Micromax Mobile\n",
      "Oneplus Mobile Gionee Mobile Vivo Mobile Nothing Phone Oppo Mobile\n",
      "Mobiles By Screen Sizes:\n",
      "4 Inch Mobiles 5.5 inch Mobiles 4.5 Inch Mobiles 5.2 Inch Mobiles\n",
      "3.5 inch Mobiles 6 inch Mobiles 3 inch Mobiles 5 inch Mobiles\n",
      "Mobiles By RAM:\n",
      "3 GB RAM Mobiles 2 GB RAM Mobiles 4 GB RAM Mobiles 1 GB RAM Mobiles\n",
      "6 GB RAM Mobiles\n",
      "  Appple iPhones\n",
      "iPhone 16 iPhone 16 Plus iPhone 16 Pro iPhone 16 Pro Max\n",
      "iPhone 15 iPhone 15 Plus iPhone 15 Pro iPhone 15 Pro Max\n",
      "iPhone 14 iPhone 14 Plus iPhone 14 Pro iPhone 14 Pro Max\n",
      "iPhone 13 iPhone 13 Mini iPhone 13 Pro iPhone 13 Pro Max\n",
      "iPhone 12 iPhone 12 Mini iPhone 12 Pro iPhone 12 Pro Max\n",
      "   Question and Answers\n",
      "Q.What are the different display options available on smartphones?\n",
      "A.Capacitive touchscreen LCD, IPS-LCD, AMOLED, OLED, and Super AMOLED are the different display types available in smart mobile phones.\n",
      "Q.What are the best display resolutions available on smartphones?\n",
      "A.You can find smartphones with HD, FHD, and HD+ resolutions. The higher the display resolution, the sharper the displayed content will appear on the screen.\n",
      "Q.What are the best quad-camera mobile phones available in India?\n",
      "A.Redmi Note 10S, Samsung Galaxy M32, POCO X3 Pro, vivo X70 Pro, and realme 8 are some of the best mobile phones with a quad-camera setup.\n",
      "Q.What is the benefit of fast charging in mobile phones?\n",
      "A.Fast charging enables the mobile phone to charge faster than the current charging standard, and it can significantly reduce the time you would typically require to charge your phone.\n",
      "Q.What are some important features to consider when buying a mobile phone?\n",
      "A.Before purchasing a mobile phone, you must ensure that you consider features and specifications such as the battery capacity, screen size, display type, camera quality, operating system, and SIM compatibility to ensure you purchase a variant that meets all your requirements.\n",
      "Q.What are the latest mobile models in 2024?\n",
      "A.\n",
      "iPhone 16, iPhone 16 Plus, iPhone 16 Pro, iPhone 16 Pro Max, iPhone 15, iPhone 15 Plus, iPhone 15 Pro, iPhone 15 Pro Max, Redmi Note 13 pro, Redmi Note 13 pro Plus, Vivo x 100, Vivo X 100 pro, Poco X6 pro, Poco X6, Moto G34, Oppo Reno 11, infinix Smart 8, Oppo Reno 11 pro, Samsung Galaxy S24 5G, Samsung Galaxy S24+ 5G, Samsung Galaxy S24 Ultra, Nothing 2a\n",
      "Q.Which are the best mobile phone brands available in India?\n",
      "A.Samsung, iPhone, Redmi, Realme, and POCO are some of the best mobile phone brands available in the Indian market.\n",
      "Q.What is the minimum RAM capacity needed for a smartphone?\n",
      "A.4 GB of RAM is considered the bare minimum for a smartphone\n",
      "Q.What influences the speed of a mobile phone?\n",
      "A.The number of processor cores and the higher clock speed of the processor cores can influence the speed of the mobile phone.\n",
      "Q.What are the best feature phones available in India?\n",
      "A.Nokia 6310, Nokia 105 SS 2021, Samsung Guru Music 2, and Samsung Metro 350 are some of the best feature phones available in India.\n",
      "Q.How much storage capacity can I expect in a mobile phone?\n",
      "A.Most smartphones come with an inbuilt storage capacity of 32 GB, 64 GB, and 128 GB. A few high-end models also feature 256 GB or 512 GB of storage capacity.\n",
      "ABOUT\n",
      "Contact Us\n",
      "About Us\n",
      "Careers\n",
      "Flipkart Stories\n",
      "Press\n",
      "Corporate Information\n",
      "GROUP COMPANIES\n",
      "Myntra\n",
      "Cleartrip\n",
      "Shopsy\n",
      "HELP\n",
      "Payments\n",
      "Shipping\n",
      "Cancellation & Returns\n",
      "FAQ\n",
      "CONSUMER POLICY\n",
      "Cancellation & Returns\n",
      "Terms Of Use\n",
      "Security\n",
      "Privacy\n",
      "Sitemap\n",
      "Grievance Redressal\n",
      "EPR Compliance\n",
      "Mail Us:\n",
      "Flipkart Internet Private Limited,\n",
      "Buildings Alyssa, Begonia &\n",
      "Clove Embassy Tech Village,\n",
      "Outer Ring Road, Devarabeesanahalli Village,\n",
      "Bengaluru, 560103,\n",
      "Karnataka, India\n",
      "Social\n",
      "Registered Office Address:\n",
      "Flipkart Internet Private Limited,\n",
      "Buildings Alyssa, Begonia &\n",
      "Clove Embassy Tech Village,\n",
      "Outer Ring Road, Devarabeesanahalli Village,\n",
      "Bengaluru, 560103,\n",
      "Karnataka, India\n",
      "CIN : U51109KA2012PTC066107\n",
      "Telephone: 044-45614700 / 044-67415800\n",
      "Become a Seller\n",
      "Advertise\n",
      "Gift Cards\n",
      "Help Center\n",
      "© 2007-2025 Flipkart.com\n"
     ]
    }
   ],
   "source": [
    "print(data.text)"
   ]
  },
  {
   "cell_type": "code",
   "execution_count": null,
   "metadata": {},
   "outputs": [],
   "source": []
  },
  {
   "cell_type": "code",
   "execution_count": null,
   "metadata": {},
   "outputs": [],
   "source": []
  },
  {
   "cell_type": "code",
   "execution_count": null,
   "metadata": {},
   "outputs": [],
   "source": []
  },
  {
   "cell_type": "code",
   "execution_count": null,
   "metadata": {},
   "outputs": [],
   "source": []
  },
  {
   "cell_type": "code",
   "execution_count": null,
   "metadata": {},
   "outputs": [],
   "source": []
  },
  {
   "cell_type": "code",
   "execution_count": null,
   "metadata": {},
   "outputs": [],
   "source": []
  },
  {
   "cell_type": "code",
   "execution_count": null,
   "metadata": {},
   "outputs": [],
   "source": []
  },
  {
   "cell_type": "code",
   "execution_count": null,
   "metadata": {},
   "outputs": [],
   "source": []
  }
 ],
 "metadata": {
  "kernelspec": {
   "display_name": "Python 3",
   "language": "python",
   "name": "python3"
  },
  "language_info": {
   "codemirror_mode": {
    "name": "ipython",
    "version": 3
   },
   "file_extension": ".py",
   "mimetype": "text/x-python",
   "name": "python",
   "nbconvert_exporter": "python",
   "pygments_lexer": "ipython3",
   "version": "3.12.4"
  }
 },
 "nbformat": 4,
 "nbformat_minor": 2
}
